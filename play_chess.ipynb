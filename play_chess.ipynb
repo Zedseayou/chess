{
 "cells": [
  {
   "cell_type": "code",
   "execution_count": 1,
   "metadata": {},
   "outputs": [],
   "source": [
    "%load_ext autoreload\n",
    "%autoreload 2"
   ]
  },
  {
   "cell_type": "code",
   "execution_count": 2,
   "metadata": {},
   "outputs": [],
   "source": [
    "import os\n",
    "import sys"
   ]
  },
  {
   "cell_type": "code",
   "execution_count": 3,
   "metadata": {},
   "outputs": [],
   "source": [
    "home = os.path.dirname((os.path.abspath('__init__.py')))\n",
    "sys.path.append(home)"
   ]
  },
  {
   "cell_type": "code",
   "execution_count": 4,
   "metadata": {
    "scrolled": true
   },
   "outputs": [],
   "source": [
    "import game\n",
    "import pieces"
   ]
  },
  {
   "cell_type": "code",
   "execution_count": 5,
   "metadata": {},
   "outputs": [],
   "source": [
    "g = game.Game()"
   ]
  },
  {
   "cell_type": "code",
   "execution_count": 6,
   "metadata": {},
   "outputs": [],
   "source": [
    "g.new_game()"
   ]
  },
  {
   "cell_type": "code",
   "execution_count": 7,
   "metadata": {},
   "outputs": [
    {
     "data": {
      "text/plain": [
       "┌　┬　┬　┬　┬　┬　┬　┬　┐\n",
       " ♜ ♞ ♝ ♛ ♚ ♝ ♞ ♜ \n",
       "├　┼　┼　┼　┼　┼　┼　┼　┤\n",
       " ♟ ♟ ♟ ♟ ♟ ♟ ♟ ♟ \n",
       "├　┼　┼　┼　┼　┼　┼　┼　┤\n",
       "                 \n",
       "├　┼　┼　┼　┼　┼　┼　┼　┤\n",
       "                 \n",
       "├　┼　┼　┼　┼　┼　┼　┼　┤\n",
       "                 \n",
       "├　┼　┼　┼　┼　┼　┼　┼　┤\n",
       "                 \n",
       "├　┼　┼　┼　┼　┼　┼　┼　┤\n",
       " ♙ ♙ ♙ ♙ ♙ ♙ ♙ ♙ \n",
       "├　┼　┼　┼　┼　┼　┼　┼　┤\n",
       " ♖ ♘ ♗ ♕ ♔ ♗ ♘ ♖ \n",
       "└　┴　┴　┴　┴　┴　┴　┴　┘"
      ]
     },
     "execution_count": 7,
     "metadata": {},
     "output_type": "execute_result"
    }
   ],
   "source": [
    "g"
   ]
  },
  {
   "cell_type": "code",
   "execution_count": 8,
   "metadata": {},
   "outputs": [],
   "source": [
    "g.add_piece('P', 'a2', 'W')\n",
    "g.add_piece('K', 'b2', 'W')\n",
    "g.add_piece('Q', 'c2', 'W')\n",
    "g.add_piece('R', 'd2', 'W')\n",
    "g.add_piece('B', 'e2', 'W')\n",
    "g.add_piece('N', 'f2', 'W')\n",
    "g.add_piece('P', 'a4', 'B')\n",
    "g.add_piece('K', 'b4', 'B')\n",
    "g.add_piece('Q', 'c4', 'B')\n",
    "g.add_piece('R', 'd4', 'B')\n",
    "g.add_piece('B', 'e4', 'B')\n",
    "g.add_piece('N', 'f4', 'B')\n",
    "g.add_piece('R', 'd5', 'B')\n",
    "g.add_piece('B', 'e5', 'B')\n",
    "g.add_piece('N', 'f5', 'B')\n",
    "g.add_piece('R', 'd1', 'W')\n",
    "g.add_piece('B', 'e3', 'B')\n",
    "g.add_piece('N', 'f3', 'W')"
   ]
  },
  {
   "cell_type": "code",
   "execution_count": 12,
   "metadata": {},
   "outputs": [
    {
     "data": {
      "text/plain": [
       "[Pawn at a2,\n",
       " Pawn at b2,\n",
       " Pawn at c2,\n",
       " Pawn at d2,\n",
       " Pawn at e2,\n",
       " Pawn at f2,\n",
       " Pawn at g2,\n",
       " Pawn at h2,\n",
       " Pawn at a7,\n",
       " Pawn at b7,\n",
       " Pawn at c7,\n",
       " Pawn at d7,\n",
       " Pawn at e7,\n",
       " Pawn at f7,\n",
       " Pawn at g7,\n",
       " Pawn at h7,\n",
       " Rook at a1,\n",
       " Rook at h1,\n",
       " Rook at a8,\n",
       " Rook at h8,\n",
       " Knight at b1,\n",
       " Knight at g1,\n",
       " Knight at b8,\n",
       " Knight at g8,\n",
       " Bishop at c1,\n",
       " Bishop at f1,\n",
       " Bishop at c8,\n",
       " Bishop at f8,\n",
       " Queen at d1,\n",
       " Queen at d8,\n",
       " King at e1,\n",
       " King at e8,\n",
       " Pawn at a2,\n",
       " King at b2,\n",
       " Queen at c2,\n",
       " Rook at d2,\n",
       " Bishop at e2,\n",
       " Knight at f2,\n",
       " Pawn at a4,\n",
       " King at b4,\n",
       " Queen at c4,\n",
       " Rook at d4,\n",
       " Bishop at e4,\n",
       " Knight at f4,\n",
       " Rook at d5,\n",
       " Bishop at e5,\n",
       " Knight at f5,\n",
       " Rook at d1,\n",
       " Bishop at e3,\n",
       " Knight at f3]"
      ]
     },
     "execution_count": 12,
     "metadata": {},
     "output_type": "execute_result"
    }
   ],
   "source": [
    "g.piece_list"
   ]
  },
  {
   "cell_type": "code",
   "execution_count": 9,
   "metadata": {},
   "outputs": [],
   "source": [
    "p = pieces.Pawn('c4', 'W')"
   ]
  },
  {
   "cell_type": "code",
   "execution_count": 10,
   "metadata": {},
   "outputs": [
    {
     "data": {
      "text/plain": [
       "Pawn at c4"
      ]
     },
     "execution_count": 10,
     "metadata": {},
     "output_type": "execute_result"
    }
   ],
   "source": [
    "p"
   ]
  },
  {
   "cell_type": "code",
   "execution_count": 11,
   "metadata": {},
   "outputs": [
    {
     "name": "stderr",
     "output_type": "stream",
     "text": [
      "..\n",
      "----------------------------------------------------------------------\n",
      "Ran 2 tests in 0.011s\n",
      "\n",
      "OK\n"
     ]
    }
   ],
   "source": [
    "%run tests.py"
   ]
  }
 ],
 "metadata": {
  "kernelspec": {
   "display_name": "Python 3",
   "language": "python",
   "name": "python3"
  },
  "language_info": {
   "codemirror_mode": {
    "name": "ipython",
    "version": 3
   },
   "file_extension": ".py",
   "mimetype": "text/x-python",
   "name": "python",
   "nbconvert_exporter": "python",
   "pygments_lexer": "ipython3",
   "version": "3.6.5"
  }
 },
 "nbformat": 4,
 "nbformat_minor": 2
}

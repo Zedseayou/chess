{
 "cells": [
  {
   "cell_type": "code",
   "execution_count": 1,
   "metadata": {},
   "outputs": [],
   "source": [
    "%load_ext autoreload\n",
    "%autoreload 2"
   ]
  },
  {
   "cell_type": "code",
   "execution_count": 2,
   "metadata": {},
   "outputs": [],
   "source": [
    "import os\n",
    "import sys"
   ]
  },
  {
   "cell_type": "code",
   "execution_count": 3,
   "metadata": {},
   "outputs": [],
   "source": [
    "home = os.path.dirname((os.path.abspath('__init__.py')))\n",
    "sys.path.append(home)"
   ]
  },
  {
   "cell_type": "code",
   "execution_count": 4,
   "metadata": {
    "scrolled": true
   },
   "outputs": [],
   "source": [
    "import chess"
   ]
  },
  {
   "cell_type": "code",
   "execution_count": 5,
   "metadata": {},
   "outputs": [],
   "source": [
    "g = chess.Game()"
   ]
  },
  {
   "cell_type": "code",
   "execution_count": 6,
   "metadata": {},
   "outputs": [
    {
     "ename": "AttributeError",
     "evalue": "module 'chess' has no attribute 'Pawn'",
     "output_type": "error",
     "traceback": [
      "\u001b[1;31m---------------------------------------------------------------------------\u001b[0m",
      "\u001b[1;31mAttributeError\u001b[0m                            Traceback (most recent call last)",
      "\u001b[1;32m<ipython-input-6-90ee6de6494f>\u001b[0m in \u001b[0;36m<module>\u001b[1;34m()\u001b[0m\n\u001b[1;32m----> 1\u001b[1;33m \u001b[0mg\u001b[0m\u001b[1;33m.\u001b[0m\u001b[0mnew_game\u001b[0m\u001b[1;33m(\u001b[0m\u001b[1;33m)\u001b[0m\u001b[1;33m\u001b[0m\u001b[0m\n\u001b[0m",
      "\u001b[1;32m~\\Documents\\GitHub\\chess\\chess\\game.py\u001b[0m in \u001b[0;36mnew_game\u001b[1;34m(self)\u001b[0m\n\u001b[0;32m     18\u001b[0m         \u001b[0mself\u001b[0m\u001b[1;33m.\u001b[0m\u001b[0mturn\u001b[0m \u001b[1;33m=\u001b[0m \u001b[1;36m1\u001b[0m\u001b[1;33m\u001b[0m\u001b[0m\n\u001b[0;32m     19\u001b[0m         \u001b[0mself\u001b[0m\u001b[1;33m.\u001b[0m\u001b[0mplayer\u001b[0m \u001b[1;33m=\u001b[0m \u001b[1;34m\"White\"\u001b[0m\u001b[1;33m\u001b[0m\u001b[0m\n\u001b[1;32m---> 20\u001b[1;33m         \u001b[0mself\u001b[0m\u001b[1;33m.\u001b[0m\u001b[0mboard\u001b[0m\u001b[1;33m.\u001b[0m\u001b[0mstart_position\u001b[0m\u001b[1;33m(\u001b[0m\u001b[1;33m)\u001b[0m\u001b[1;33m\u001b[0m\u001b[0m\n\u001b[0m\u001b[0;32m     21\u001b[0m \u001b[1;33m\u001b[0m\u001b[0m\n\u001b[0;32m     22\u001b[0m     \u001b[1;32mdef\u001b[0m \u001b[0mmake_move\u001b[0m\u001b[1;33m(\u001b[0m\u001b[0mself\u001b[0m\u001b[1;33m)\u001b[0m\u001b[1;33m:\u001b[0m\u001b[1;33m\u001b[0m\u001b[0m\n",
      "\u001b[1;32m~\\Documents\\GitHub\\chess\\chess\\board.py\u001b[0m in \u001b[0;36mstart_position\u001b[1;34m(self)\u001b[0m\n\u001b[0;32m    100\u001b[0m \u001b[1;33m\u001b[0m\u001b[0m\n\u001b[0;32m    101\u001b[0m         \u001b[1;32mfor\u001b[0m \u001b[0msquare\u001b[0m \u001b[1;32min\u001b[0m \u001b[1;33m[\u001b[0m\u001b[1;34m'a2'\u001b[0m\u001b[1;33m,\u001b[0m \u001b[1;34m'b2'\u001b[0m\u001b[1;33m,\u001b[0m \u001b[1;34m'c2'\u001b[0m\u001b[1;33m,\u001b[0m \u001b[1;34m'd2'\u001b[0m\u001b[1;33m,\u001b[0m \u001b[1;34m'e2'\u001b[0m\u001b[1;33m,\u001b[0m \u001b[1;34m'f2'\u001b[0m\u001b[1;33m,\u001b[0m \u001b[1;34m'g2'\u001b[0m\u001b[1;33m,\u001b[0m \u001b[1;34m'h2'\u001b[0m\u001b[1;33m]\u001b[0m\u001b[1;33m:\u001b[0m\u001b[1;33m\u001b[0m\u001b[0m\n\u001b[1;32m--> 102\u001b[1;33m             \u001b[0mself\u001b[0m\u001b[1;33m.\u001b[0m\u001b[0madd_piece\u001b[0m\u001b[1;33m(\u001b[0m\u001b[1;34m'P'\u001b[0m\u001b[1;33m,\u001b[0m \u001b[0msquare\u001b[0m\u001b[1;33m,\u001b[0m \u001b[1;34m'W'\u001b[0m\u001b[1;33m)\u001b[0m\u001b[1;33m\u001b[0m\u001b[0m\n\u001b[0m\u001b[0;32m    103\u001b[0m         \u001b[1;32mfor\u001b[0m \u001b[0msquare\u001b[0m \u001b[1;32min\u001b[0m \u001b[1;33m[\u001b[0m\u001b[1;34m'a7'\u001b[0m\u001b[1;33m,\u001b[0m \u001b[1;34m'b7'\u001b[0m\u001b[1;33m,\u001b[0m \u001b[1;34m'c7'\u001b[0m\u001b[1;33m,\u001b[0m \u001b[1;34m'd7'\u001b[0m\u001b[1;33m,\u001b[0m \u001b[1;34m'e7'\u001b[0m\u001b[1;33m,\u001b[0m \u001b[1;34m'f7'\u001b[0m\u001b[1;33m,\u001b[0m \u001b[1;34m'g7'\u001b[0m\u001b[1;33m,\u001b[0m \u001b[1;34m'h7'\u001b[0m\u001b[1;33m]\u001b[0m\u001b[1;33m:\u001b[0m\u001b[1;33m\u001b[0m\u001b[0m\n\u001b[0;32m    104\u001b[0m             \u001b[0mself\u001b[0m\u001b[1;33m.\u001b[0m\u001b[0madd_piece\u001b[0m\u001b[1;33m(\u001b[0m\u001b[1;34m'P'\u001b[0m\u001b[1;33m,\u001b[0m \u001b[0msquare\u001b[0m\u001b[1;33m,\u001b[0m \u001b[1;34m'B'\u001b[0m\u001b[1;33m)\u001b[0m\u001b[1;33m\u001b[0m\u001b[0m\n",
      "\u001b[1;32m~\\Documents\\GitHub\\chess\\chess\\board.py\u001b[0m in \u001b[0;36madd_piece\u001b[1;34m(self, piece_type, square, colour)\u001b[0m\n\u001b[0;32m     89\u001b[0m             \u001b[0mnew_piece\u001b[0m \u001b[1;33m=\u001b[0m \u001b[0mchess\u001b[0m\u001b[1;33m.\u001b[0m\u001b[0mKnight\u001b[0m\u001b[1;33m(\u001b[0m\u001b[0msquare\u001b[0m\u001b[1;33m,\u001b[0m \u001b[0mcolour\u001b[0m\u001b[1;33m)\u001b[0m\u001b[1;33m\u001b[0m\u001b[0m\n\u001b[0;32m     90\u001b[0m         \u001b[1;32melif\u001b[0m \u001b[0mpiece_type\u001b[0m \u001b[1;33m==\u001b[0m \u001b[1;34m'P'\u001b[0m\u001b[1;33m:\u001b[0m\u001b[1;33m\u001b[0m\u001b[0m\n\u001b[1;32m---> 91\u001b[1;33m             \u001b[0mnew_piece\u001b[0m \u001b[1;33m=\u001b[0m \u001b[0mchess\u001b[0m\u001b[1;33m.\u001b[0m\u001b[0mPawn\u001b[0m\u001b[1;33m(\u001b[0m\u001b[0msquare\u001b[0m\u001b[1;33m,\u001b[0m \u001b[0mcolour\u001b[0m\u001b[1;33m)\u001b[0m\u001b[1;33m\u001b[0m\u001b[0m\n\u001b[0m\u001b[0;32m     92\u001b[0m         \u001b[1;32melse\u001b[0m\u001b[1;33m:\u001b[0m\u001b[1;33m\u001b[0m\u001b[0m\n\u001b[0;32m     93\u001b[0m             \u001b[1;32mraise\u001b[0m \u001b[0mValueError\u001b[0m\u001b[1;33m(\u001b[0m\u001b[1;34m'Invalid piece_type! Should be one of K, Q, R, B, N, P'\u001b[0m\u001b[1;33m)\u001b[0m\u001b[1;33m\u001b[0m\u001b[0m\n",
      "\u001b[1;31mAttributeError\u001b[0m: module 'chess' has no attribute 'Pawn'"
     ]
    }
   ],
   "source": [
    "g.new_game()"
   ]
  },
  {
   "cell_type": "code",
   "execution_count": null,
   "metadata": {
    "scrolled": true
   },
   "outputs": [],
   "source": [
    "print(g)"
   ]
  },
  {
   "cell_type": "code",
   "execution_count": 7,
   "metadata": {},
   "outputs": [
    {
     "data": {
      "text/plain": [
       "['Board',\n",
       " 'Game',\n",
       " 'Move',\n",
       " '__builtins__',\n",
       " '__cached__',\n",
       " '__doc__',\n",
       " '__file__',\n",
       " '__loader__',\n",
       " '__name__',\n",
       " '__package__',\n",
       " '__path__',\n",
       " '__spec__',\n",
       " 'board',\n",
       " 'chess',\n",
       " 'game',\n",
       " 'move',\n",
       " 'pieces']"
      ]
     },
     "execution_count": 7,
     "metadata": {},
     "output_type": "execute_result"
    }
   ],
   "source": [
    "dir(chess)"
   ]
  },
  {
   "cell_type": "code",
   "execution_count": null,
   "metadata": {},
   "outputs": [],
   "source": [
    "g.add_piece('P', 'a2', 'W')\n",
    "g.add_piece('K', 'b2', 'W')\n",
    "g.add_piece('Q', 'c2', 'W')\n",
    "g.add_piece('R', 'd2', 'W')\n",
    "g.add_piece('B', 'e2', 'W')\n",
    "g.add_piece('N', 'f2', 'W')\n",
    "g.add_piece('P', 'a4', 'B')\n",
    "g.add_piece('K', 'b4', 'B')\n",
    "g.add_piece('Q', 'c4', 'B')\n",
    "g.add_piece('R', 'd4', 'B')\n",
    "g.add_piece('B', 'e4', 'B')\n",
    "g.add_piece('N', 'f4', 'B')\n",
    "g.add_piece('R', 'd5', 'B')\n",
    "g.add_piece('B', 'e5', 'B')\n",
    "g.add_piece('N', 'f5', 'B')\n",
    "g.add_piece('R', 'd1', 'W')\n",
    "g.add_piece('B', 'e3', 'B')\n",
    "g.add_piece('N', 'f3', 'W')"
   ]
  },
  {
   "cell_type": "code",
   "execution_count": null,
   "metadata": {},
   "outputs": [],
   "source": [
    "x = g.board"
   ]
  },
  {
   "cell_type": "code",
   "execution_count": null,
   "metadata": {},
   "outputs": [],
   "source": [
    "\"abc\" * 7 +\"d\""
   ]
  },
  {
   "cell_type": "code",
   "execution_count": null,
   "metadata": {},
   "outputs": [],
   "source": [
    "top = '┌' + '\\u2005\\u3000\\u2005┬' * 7 + '\\u2005\\u3000\\u2005┐'\n",
    "centre = '├' + '\\u2005\\u3000\\u2005┼' * 7 + '\\u2005\\u3000\\u2005┤'\n",
    "bottom = '└' + '\\u2005\\u3000\\u2005┴' * 7 + '\\u2005\\u3000\\u2005┘'\n",
    "\n",
    "rows = ['\\u2005 \\u2005'.join(row) for row in x]\n",
    "printed_board = f'{top}\\n' + \\\n",
    "    f' \\u2005{rows[0]}\\u2005 \\n' + \\\n",
    "    f'{centre}\\n' + \\\n",
    "    f' \\u2005{rows[1]}\\u2005 \\n' + \\\n",
    "    f'{centre}\\n' + \\\n",
    "    f' {rows[2]} \\n' + \\\n",
    "    f'{centre}\\n' + \\\n",
    "    f' {rows[3]} \\n' + \\\n",
    "    f'{centre}\\n' + \\\n",
    "    f' {rows[4]} \\n' + \\\n",
    "    f'{centre}\\n' + \\\n",
    "    f' {rows[5]} \\n' + \\\n",
    "    f'{centre}\\n' + \\\n",
    "    f' {rows[6]} \\n' + \\\n",
    "    f'{centre}\\n' + \\\n",
    "    f' {rows[7]} \\n' + \\\n",
    "    f'{bottom}'\n",
    "print(printed_board)"
   ]
  },
  {
   "cell_type": "code",
   "execution_count": null,
   "metadata": {},
   "outputs": [],
   "source": [
    "    ranks = {\n",
    "        '8': 0,\n",
    "        '7': 1,\n",
    "        '6': 2,\n",
    "        '5': 3,\n",
    "        '4': 4,\n",
    "        '3': 5,\n",
    "        '2': 6,\n",
    "        '1': 7\n",
    "    }\n",
    "\n",
    "    files = {\n",
    "        'a': 0,\n",
    "        'b': 1,\n",
    "        'c': 2,\n",
    "        'd': 3,\n",
    "        'e': 4,\n",
    "        'f': 5,\n",
    "        'g': 6,\n",
    "        'h': 7\n",
    "    }"
   ]
  },
  {
   "cell_type": "code",
   "execution_count": null,
   "metadata": {},
   "outputs": [],
   "source": [
    "inv_files = {v: k for k, v in files.items()}\n",
    "inv_ranks = {v: k for k, v in ranks.items()}"
   ]
  },
  {
   "cell_type": "code",
   "execution_count": null,
   "metadata": {},
   "outputs": [],
   "source": [
    "import itertools\n",
    "set(itertools.product([-1, 0, 1], [-1, 0, 1])) - {(0,0)}"
   ]
  },
  {
   "cell_type": "code",
   "execution_count": null,
   "metadata": {},
   "outputs": [],
   "source": [
    "%run tests.py"
   ]
  }
 ],
 "metadata": {
  "kernelspec": {
   "display_name": "Python 3",
   "language": "python",
   "name": "python3"
  },
  "language_info": {
   "codemirror_mode": {
    "name": "ipython",
    "version": 3
   },
   "file_extension": ".py",
   "mimetype": "text/x-python",
   "name": "python",
   "nbconvert_exporter": "python",
   "pygments_lexer": "ipython3",
   "version": "3.6.5"
  }
 },
 "nbformat": 4,
 "nbformat_minor": 2
}

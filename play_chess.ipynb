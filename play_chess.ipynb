{
 "cells": [
  {
   "cell_type": "code",
   "execution_count": 1,
   "metadata": {},
   "outputs": [],
   "source": [
    "%load_ext autoreload\n",
    "%autoreload 2"
   ]
  },
  {
   "cell_type": "code",
   "execution_count": 2,
   "metadata": {},
   "outputs": [],
   "source": [
    "import os\n",
    "import sys"
   ]
  },
  {
   "cell_type": "code",
   "execution_count": 3,
   "metadata": {},
   "outputs": [],
   "source": [
    "home = os.path.dirname((os.path.abspath('__init__.py')))\n",
    "sys.path.append(home)"
   ]
  },
  {
   "cell_type": "code",
   "execution_count": 4,
   "metadata": {
    "scrolled": true
   },
   "outputs": [],
   "source": [
    "import game\n",
    "import pieces"
   ]
  },
  {
   "cell_type": "code",
   "execution_count": 37,
   "metadata": {},
   "outputs": [],
   "source": [
    "g = game.Game()"
   ]
  },
  {
   "cell_type": "code",
   "execution_count": 38,
   "metadata": {},
   "outputs": [],
   "source": [
    "g.new_game()"
   ]
  },
  {
   "cell_type": "code",
   "execution_count": 39,
   "metadata": {},
   "outputs": [
    {
     "data": {
      "text/plain": [
       "┌ 　 ┬ 　 ┬ 　 ┬ 　 ┬ 　 ┬ 　 ┬ 　 ┬ 　 ┐\n",
       "  ♜   ♞   ♝   ♛   ♚   ♝   ♞   ♜  \n",
       "├ 　 ┼ 　 ┼ 　 ┼ 　 ┼ 　 ┼ 　 ┼ 　 ┼ 　 ┤\n",
       "  ♟   ♟   ♟   ♟   ♟   ♟   ♟   ♟  \n",
       "├ 　 ┼ 　 ┼ 　 ┼ 　 ┼ 　 ┼ 　 ┼ 　 ┼ 　 ┤\n",
       "                                 \n",
       "├ 　 ┼ 　 ┼ 　 ┼ 　 ┼ 　 ┼ 　 ┼ 　 ┼ 　 ┤\n",
       "                                 \n",
       "├ 　 ┼ 　 ┼ 　 ┼ 　 ┼ 　 ┼ 　 ┼ 　 ┼ 　 ┤\n",
       "                                 \n",
       "├ 　 ┼ 　 ┼ 　 ┼ 　 ┼ 　 ┼ 　 ┼ 　 ┼ 　 ┤\n",
       "                                 \n",
       "├ 　 ┼ 　 ┼ 　 ┼ 　 ┼ 　 ┼ 　 ┼ 　 ┼ 　 ┤\n",
       "  ♙   ♙   ♙   ♙   ♙   ♙   ♙   ♙  \n",
       "├ 　 ┼ 　 ┼ 　 ┼ 　 ┼ 　 ┼ 　 ┼ 　 ┼ 　 ┤\n",
       "  ♖   ♘   ♗   ♕   ♔   ♗   ♘   ♖  \n",
       "└ 　 ┴ 　 ┴ 　 ┴ 　 ┴ 　 ┴ 　 ┴ 　 ┴ 　 ┘"
      ]
     },
     "execution_count": 39,
     "metadata": {},
     "output_type": "execute_result"
    }
   ],
   "source": [
    "g"
   ]
  },
  {
   "cell_type": "code",
   "execution_count": 8,
   "metadata": {},
   "outputs": [],
   "source": [
    "g.add_piece('P', 'a2', 'W')\n",
    "g.add_piece('K', 'b2', 'W')\n",
    "g.add_piece('Q', 'c2', 'W')\n",
    "g.add_piece('R', 'd2', 'W')\n",
    "g.add_piece('B', 'e2', 'W')\n",
    "g.add_piece('N', 'f2', 'W')\n",
    "g.add_piece('P', 'a4', 'B')\n",
    "g.add_piece('K', 'b4', 'B')\n",
    "g.add_piece('Q', 'c4', 'B')\n",
    "g.add_piece('R', 'd4', 'B')\n",
    "g.add_piece('B', 'e4', 'B')\n",
    "g.add_piece('N', 'f4', 'B')\n",
    "g.add_piece('R', 'd5', 'B')\n",
    "g.add_piece('B', 'e5', 'B')\n",
    "g.add_piece('N', 'f5', 'B')\n",
    "g.add_piece('R', 'd1', 'W')\n",
    "g.add_piece('B', 'e3', 'B')\n",
    "g.add_piece('N', 'f3', 'W')"
   ]
  },
  {
   "cell_type": "code",
   "execution_count": 13,
   "metadata": {},
   "outputs": [],
   "source": [
    "x = g.board"
   ]
  },
  {
   "cell_type": "code",
   "execution_count": 35,
   "metadata": {},
   "outputs": [
    {
     "data": {
      "text/plain": [
       "'abcabcabcabcabcabcabcd'"
      ]
     },
     "execution_count": 35,
     "metadata": {},
     "output_type": "execute_result"
    }
   ],
   "source": [
    "\"abc\" * 7 +\"d\""
   ]
  },
  {
   "cell_type": "code",
   "execution_count": 36,
   "metadata": {},
   "outputs": [
    {
     "name": "stdout",
     "output_type": "stream",
     "text": [
      "┌ 　 ┬ 　 ┬ 　 ┬ 　 ┬ 　 ┬ 　 ┬ 　 ┬ 　 ┐\n",
      "  ♜   ♞   ♝   ♛   ♚   ♝   ♞   ♜  \n",
      "├ 　 ┼ 　 ┼ 　 ┼ 　 ┼ 　 ┼ 　 ┼ 　 ┼ 　 ┤\n",
      "  ♟   ♟   ♟   ♟   ♟   ♟   ♟   ♟  \n",
      "├ 　 ┼ 　 ┼ 　 ┼ 　 ┼ 　 ┼ 　 ┼ 　 ┼ 　 ┤\n",
      "                               \n",
      "├ 　 ┼ 　 ┼ 　 ┼ 　 ┼ 　 ┼ 　 ┼ 　 ┼ 　 ┤\n",
      "             ♜   ♝   ♞         \n",
      "├ 　 ┼ 　 ┼ 　 ┼ 　 ┼ 　 ┼ 　 ┼ 　 ┼ 　 ┤\n",
      " ♟   ♚   ♛   ♜   ♝   ♞         \n",
      "├ 　 ┼ 　 ┼ 　 ┼ 　 ┼ 　 ┼ 　 ┼ 　 ┼ 　 ┤\n",
      "                 ♝   ♘         \n",
      "├ 　 ┼ 　 ┼ 　 ┼ 　 ┼ 　 ┼ 　 ┼ 　 ┼ 　 ┤\n",
      " ♙   ♔   ♕   ♖   ♗   ♘   ♙   ♙ \n",
      "├ 　 ┼ 　 ┼ 　 ┼ 　 ┼ 　 ┼ 　 ┼ 　 ┼ 　 ┤\n",
      " ♖   ♘   ♗   ♖   ♔   ♗   ♘   ♖ \n",
      "└ 　 ┴ 　 ┴ 　 ┴ 　 ┴ 　 ┴ 　 ┴ 　 ┴ 　 ┘\n"
     ]
    }
   ],
   "source": [
    "top = '┌' + '\\u2005\\u3000\\u2005┬' * 7 + '\\u2005\\u3000\\u2005┐'\n",
    "centre = '├' + '\\u2005\\u3000\\u2005┼' * 7 + '\\u2005\\u3000\\u2005┤'\n",
    "bottom = '└' + '\\u2005\\u3000\\u2005┴' * 7 + '\\u2005\\u3000\\u2005┘'\n",
    "\n",
    "rows = ['\\u2005 \\u2005'.join(row) for row in x]\n",
    "printed_board = f'{top}\\n' + \\\n",
    "    f' \\u2005{rows[0]}\\u2005 \\n' + \\\n",
    "    f'{centre}\\n' + \\\n",
    "    f' \\u2005{rows[1]}\\u2005 \\n' + \\\n",
    "    f'{centre}\\n' + \\\n",
    "    f' {rows[2]} \\n' + \\\n",
    "    f'{centre}\\n' + \\\n",
    "    f' {rows[3]} \\n' + \\\n",
    "    f'{centre}\\n' + \\\n",
    "    f' {rows[4]} \\n' + \\\n",
    "    f'{centre}\\n' + \\\n",
    "    f' {rows[5]} \\n' + \\\n",
    "    f'{centre}\\n' + \\\n",
    "    f' {rows[6]} \\n' + \\\n",
    "    f'{centre}\\n' + \\\n",
    "    f' {rows[7]} \\n' + \\\n",
    "    f'{bottom}'\n",
    "print(printed_board)"
   ]
  },
  {
   "cell_type": "code",
   "execution_count": 11,
   "metadata": {},
   "outputs": [
    {
     "name": "stderr",
     "output_type": "stream",
     "text": [
      "..\n",
      "----------------------------------------------------------------------\n",
      "Ran 2 tests in 0.011s\n",
      "\n",
      "OK\n"
     ]
    }
   ],
   "source": [
    "%run tests.py"
   ]
  }
 ],
 "metadata": {
  "kernelspec": {
   "display_name": "Python 3",
   "language": "python",
   "name": "python3"
  },
  "language_info": {
   "codemirror_mode": {
    "name": "ipython",
    "version": 3
   },
   "file_extension": ".py",
   "mimetype": "text/x-python",
   "name": "python",
   "nbconvert_exporter": "python",
   "pygments_lexer": "ipython3",
   "version": "3.6.5"
  }
 },
 "nbformat": 4,
 "nbformat_minor": 2
}

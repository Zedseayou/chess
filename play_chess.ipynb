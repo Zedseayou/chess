{
 "cells": [
  {
   "cell_type": "code",
   "execution_count": 1,
   "metadata": {},
   "outputs": [],
   "source": [
    "%load_ext autoreload\n",
    "%autoreload 2"
   ]
  },
  {
   "cell_type": "code",
   "execution_count": 2,
   "metadata": {},
   "outputs": [],
   "source": [
    "import os\n",
    "import sys"
   ]
  },
  {
   "cell_type": "code",
   "execution_count": 3,
   "metadata": {},
   "outputs": [],
   "source": [
    "home = os.path.dirname((os.path.abspath('__init__.py')))\n",
    "sys.path.append(home)"
   ]
  },
  {
   "cell_type": "code",
   "execution_count": 4,
   "metadata": {
    "scrolled": true
   },
   "outputs": [],
   "source": [
    "import game\n",
    "import pieces"
   ]
  },
  {
   "cell_type": "code",
   "execution_count": 163,
   "metadata": {},
   "outputs": [],
   "source": [
    "g = game.Game()"
   ]
  },
  {
   "cell_type": "code",
   "execution_count": 165,
   "metadata": {},
   "outputs": [],
   "source": [
    "g.add_piece('P', 'a2', 'W')\n",
    "g.add_piece('K', 'b2', 'W')\n",
    "g.add_piece('Q', 'c2', 'W')\n",
    "g.add_piece('R', 'd2', 'W')\n",
    "g.add_piece('B', 'e2', 'W')\n",
    "g.add_piece('N', 'f2', 'W')\n",
    "g.add_piece('P', 'a4', 'B')\n",
    "g.add_piece('K', 'b4', 'B')\n",
    "g.add_piece('Q', 'c4', 'B')\n",
    "g.add_piece('R', 'd4', 'B')\n",
    "g.add_piece('B', 'e4', 'B')\n",
    "g.add_piece('N', 'f4', 'B')\n",
    "g.add_piece('R', 'd5', 'B')\n",
    "g.add_piece('B', 'e5', 'B')\n",
    "g.add_piece('N', 'f5', 'B')\n",
    "g.add_piece('R', 'd1', 'W')\n",
    "g.add_piece('B', 'e3', 'B')\n",
    "g.add_piece('N', 'f3', 'W')"
   ]
  },
  {
   "cell_type": "code",
   "execution_count": 171,
   "metadata": {},
   "outputs": [
    {
     "data": {
      "text/plain": [
       "┌　┬　┬　┬　┬　┬　┬　┬　┐\n",
       "                 \n",
       "├　┼　┼　┼　┼　┼　┼　┼　┤\n",
       "                \n",
       "├　┼　┼　┼　┼　┼　┼　┼　┤\n",
       "                 \n",
       "├　┼　┼　┼　┼　┼　┼　┼　┤\n",
       "       ♜ ♝ ♞     \n",
       "├　┼　┼　┼　┼　┼　┼　┼　┤\n",
       " ♟ ♚ ♛ ♜ ♝ ♞     \n",
       "├　┼　┼　┼　┼　┼　┼　┼　┤\n",
       "         ♝ ♘     \n",
       "├　┼　┼　┼　┼　┼　┼　┼　┤\n",
       " ♙ ♔ ♕ ♖ ♗ ♘     \n",
       "├　┼　┼　┼　┼　┼　┼　┼　┤\n",
       "       ♖         \n",
       "└　┴　┴　┴　┴　┴　┴　┴　┘"
      ]
     },
     "execution_count": 171,
     "metadata": {},
     "output_type": "execute_result"
    }
   ],
   "source": [
    "g"
   ]
  },
  {
   "cell_type": "code",
   "execution_count": 173,
   "metadata": {},
   "outputs": [
    {
     "data": {
      "text/plain": [
       "[<pieces.Pawn at 0x2122484d358>,\n",
       " <pieces.King at 0x2122484d3c8>,\n",
       " <pieces.Queen at 0x2122484d438>,\n",
       " <pieces.Rook at 0x2122484d470>,\n",
       " <pieces.Bishop at 0x2122484d4a8>,\n",
       " <pieces.Knight at 0x2122484d4e0>,\n",
       " <pieces.Pawn at 0x2122484d518>,\n",
       " <pieces.King at 0x2122484d550>,\n",
       " <pieces.Queen at 0x2122484d588>,\n",
       " <pieces.Rook at 0x2122484d5c0>,\n",
       " <pieces.Bishop at 0x2122484d5f8>,\n",
       " <pieces.Knight at 0x21224805a20>,\n",
       " <pieces.Rook at 0x21224805f60>,\n",
       " <pieces.Bishop at 0x21224805e48>,\n",
       " <pieces.Knight at 0x2122484d400>,\n",
       " <pieces.Rook at 0x2122484d668>,\n",
       " <pieces.Bishop at 0x2122484d6a0>,\n",
       " <pieces.Knight at 0x2122484d630>]"
      ]
     },
     "execution_count": 173,
     "metadata": {},
     "output_type": "execute_result"
    }
   ],
   "source": [
    "g.piece_list"
   ]
  },
  {
   "cell_type": "code",
   "execution_count": 34,
   "metadata": {},
   "outputs": [
    {
     "name": "stderr",
     "output_type": "stream",
     "text": [
      "..\n",
      "----------------------------------------------------------------------\n",
      "Ran 2 tests in 0.001s\n",
      "\n",
      "OK\n"
     ]
    }
   ],
   "source": [
    "%run tests.py"
   ]
  }
 ],
 "metadata": {
  "kernelspec": {
   "display_name": "Python 3",
   "language": "python",
   "name": "python3"
  },
  "language_info": {
   "codemirror_mode": {
    "name": "ipython",
    "version": 3
   },
   "file_extension": ".py",
   "mimetype": "text/x-python",
   "name": "python",
   "nbconvert_exporter": "python",
   "pygments_lexer": "ipython3",
   "version": "3.6.5"
  }
 },
 "nbformat": 4,
 "nbformat_minor": 2
}
